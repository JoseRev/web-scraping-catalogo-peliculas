{
 "cells": [
  {
   "cell_type": "code",
   "execution_count": null,
   "metadata": {},
   "outputs": [],
   "source": [
    "from bs4 import BeautifulSoup\n",
    "import pandas as pd\n",
    "import requests\n",
    "from stat import S_IREAD, S_IRGRP, S_IROTH\n",
    "from styleframe import StyleFrame, Styler, utils"
   ]
  },
  {
   "cell_type": "markdown",
   "metadata": {},
   "source": [
    "### Funciones"
   ]
  },
  {
   "cell_type": "code",
   "execution_count": null,
   "metadata": {},
   "outputs": [],
   "source": [
    "def no_pag_x_genero(genero):\n",
    "    ### No. de paginas en cada genero\n",
    "    url = 'https://repelishd.me/genero/' + genero\n",
    "    source=requests.get(url).text\n",
    "    soup=BeautifulSoup(source, 'lxml')\n",
    "    try:\n",
    "        paginas=soup.find(class_='pagination')\n",
    "        total_paginas = int(paginas.span.text.split(' ')[3])\n",
    "    except Exception as e:\n",
    "        total_paginas = 1\n",
    "    return total_paginas"
   ]
  },
  {
   "cell_type": "code",
   "execution_count": null,
   "metadata": {},
   "outputs": [],
   "source": [
    "def peli_x_genero(genero, pagina):\n",
    "    ### Busqueda de peliculas en cada genero\n",
    "    url = 'https://repelishd.me/genero/'+genero + '/' + 'page' +  '/' + str(pagina+1)\n",
    "    source=requests.get(url).text\n",
    "    soup=BeautifulSoup(source, 'lxml')    \n",
    "    print(genero)\n",
    "    print(pagina + 1, 'de', total_paginas, url)\n",
    "    print()\n",
    "    return soup "
   ]
  },
  {
   "cell_type": "code",
   "execution_count": null,
   "metadata": {},
   "outputs": [],
   "source": [
    "def datos_peliculas(pelicula):\n",
    "    #datos de las peliculas\n",
    "    nombre = pelicula.h3.text\n",
    "    try:\n",
    "        rating = float(pelicula.find('div', class_='rating').text)\n",
    "    except Exception as e:\n",
    "        rating=None\n",
    "    try:\n",
    "        año=pelicula.find_all('span')[2].text\n",
    "    except Exception as e:\n",
    "        año=None\n",
    "    audio=pelicula.find('div', class_='audio')\n",
    "    audio_latino = 'Si'if \"latino\" in str(audio) else 'No'\n",
    "    \n",
    "    # Ir a https://repelishd.me/pelicula/erase-una-vez-en-queens-2021/ y tomar la informacion de la SINOPSIS\n",
    "    url=str(pelicula.h3.a).split('\"')[1]\n",
    "    try:\n",
    "        source=requests.get(url).text\n",
    "        soup=BeautifulSoup(source, 'lxml')          \n",
    "        informacion = soup.find(class_=\"wp-content sinopxs\")\n",
    "        lista_sinopsis = informacion.find_all('p')\n",
    "        sinopsis = lista_sinopsis[1].text if len(lista_sinopsis[1].text) > len(lista_sinopsis[0].text) else lista_sinopsis[0].text\n",
    "        \n",
    "    except Exception as e:\n",
    "        sinopsis = None\n",
    "        \n",
    "    return nombre, año, rating, año, audio_latino, url, sinopsis"
   ]
  },
  {
   "cell_type": "markdown",
   "metadata": {},
   "source": [
    "### Hacer Catalogo de Peliculas (https://repelishd.me/)"
   ]
  },
  {
   "cell_type": "code",
   "execution_count": null,
   "metadata": {
    "scrolled": false
   },
   "outputs": [],
   "source": [
    "### Dataframe\n",
    "df=pd.DataFrame(columns=('Pelicula', 'Genero', 'Rating', 'Año', 'Doblada', 'Sinopsis', 'Url'))\n",
    "\n",
    "### Requests\n",
    "generos=['clasicas', 'drama', 'misterio', 'belica', 'accion', 'aventura', 'suspense', 'crimen', 'documental', 'animacion', 'historia', 'comedia']\n",
    "\n",
    "for genero in generos:\n",
    "    total_paginas = no_pag_x_genero(genero)\n",
    "    \n",
    "    for pagina in range(total_paginas):\n",
    "        soup = peli_x_genero(genero, pagina)\n",
    " \n",
    "        for pelicula in soup.find_all(class_='item movies'):\n",
    "            nombre, año, rating, año, audio_latino, url, sinopsis = datos_peliculas(pelicula)\n",
    "            df=df.append({'Pelicula':nombre, 'Genero':genero,'Rating':rating, 'Año':año, 'Doblada':audio_latino, 'Url':url, 'Sinopsis':sinopsis}, ignore_index=True)\n"
   ]
  },
  {
   "cell_type": "markdown",
   "metadata": {},
   "source": [
    "### Guardar en Excel Catalogo"
   ]
  },
  {
   "cell_type": "code",
   "execution_count": null,
   "metadata": {},
   "outputs": [],
   "source": [
    "df.drop_duplicates(subset=['Pelicula', 'Rating'], keep='first', inplace=True, ignore_index=False)\n",
    "df.sort_values(by=['Rating', 'Año'],  ascending=False, inplace=True)\n",
    "df.reset_index(drop=True, inplace=True)\n",
    "df.index += 1 \n",
    "df.head(20)\n",
    "\n",
    "sf=StyleFrame(df)\n",
    "sf=sf.set_column_width(columns=['Pelicula'], width=45.00)\n",
    "sf=sf.set_column_width(columns=['Url'], width=71.00)\n",
    "sf=sf.set_column_width(columns=['Genero'], width=15.00)\n",
    "sf=sf.set_column_width(columns=['Rating'], width=15.00)\n",
    "sf=sf.set_column_width(columns=['Año'], width=15.00)\n",
    "sf=sf.set_column_width(columns=['Doblada'], width=15.00)\n",
    "sf=sf.set_column_width(columns=['Sinopsis'], width=90.00)\n",
    "sf.to_excel(excel_writer='catalogo de peliculas.xlsx', index=True).save()"
   ]
  },
  {
   "cell_type": "code",
   "execution_count": null,
   "metadata": {
    "scrolled": true
   },
   "outputs": [],
   "source": [
    "\n"
   ]
  },
  {
   "cell_type": "code",
   "execution_count": null,
   "metadata": {},
   "outputs": [],
   "source": []
  },
  {
   "cell_type": "code",
   "execution_count": null,
   "metadata": {},
   "outputs": [],
   "source": []
  },
  {
   "cell_type": "markdown",
   "metadata": {},
   "source": [
    "### Codigo deshechado"
   ]
  },
  {
   "cell_type": "code",
   "execution_count": null,
   "metadata": {},
   "outputs": [],
   "source": [
    "# url = 'https://repelishd.me/pelicula/el-libro-negro-online/'\n",
    "# source=requests.get(url).text\n",
    "# soup=BeautifulSoup(source, 'lxml')    \n",
    "\n",
    "# informacion = soup.find(class_=\"wp-content sinopxs\")\n",
    "# lista_sinopsis = soup.find_all('p')\n",
    "# sinopsis = lista_sinopsis[1].text if len(lista_sinopsis[1].text) > len(lista_sinopsis[0].text) else lista_sinopsis[0].text\n",
    "# lista_sinopsis[0].text"
   ]
  }
 ],
 "metadata": {
  "kernelspec": {
   "display_name": "Python 3",
   "language": "python",
   "name": "python3"
  },
  "language_info": {
   "codemirror_mode": {
    "name": "ipython",
    "version": 3
   },
   "file_extension": ".py",
   "mimetype": "text/x-python",
   "name": "python",
   "nbconvert_exporter": "python",
   "pygments_lexer": "ipython3",
   "version": "3.9.1"
  }
 },
 "nbformat": 4,
 "nbformat_minor": 4
}
